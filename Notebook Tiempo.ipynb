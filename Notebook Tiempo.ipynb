{
 "cells": [
  {
   "cell_type": "markdown",
   "id": "f68d4d0e",
   "metadata": {},
   "source": [
    "# Efecto del tiempo en simulación de temperatura\n",
    "\n",
    "La bibliografía estudiada sugiere que la temperatura debería converger al dejar la fuente encendida por un periodo largo de tiempo. Esto coincide con tanto la teoría física como matemática. En este notebook se buscará evidenciar esta convergencia, para luego apagar la fuente y evidenciar un enfriamiento exponenical."
   ]
  },
  {
   "cell_type": "code",
   "execution_count": 2,
   "id": "b7ef019c",
   "metadata": {},
   "outputs": [],
   "source": [
    "import sys\n",
    "sys.path.append('..')\n",
    "\n",
    "import optimus\n",
    "import pandas as pd\n",
    "import matplotlib.pyplot as plt\n",
    "from mpl_toolkits.mplot3d import proj3d\n",
    "import numpy as np\n",
    "from optimus.source.transducers import transducer_field\n",
    "from optimus.postprocess.plot import surface_plot\n",
    "\n",
    "from utilities import finite_difference, rectangular_pulse, turk_pulse"
   ]
  },
  {
   "cell_type": "markdown",
   "id": "69803d68",
   "metadata": {},
   "source": [
    "Se usarán los parámetros físicos del paper estudiado, solo que con un tiempo considerablemente mayor."
   ]
  },
  {
   "cell_type": "code",
   "execution_count": 3,
   "id": "d83e1f7a",
   "metadata": {},
   "outputs": [],
   "source": [
    "material_ext = optimus.material.load_material('water')\n",
    "material_int = optimus.material.load_material('bone (cortical)')\n",
    "IPP_abs_load = np.loadtxt(\"HEAD_0198 .txt\")\n",
    "\n",
    "c_0 = material_ext.speed_of_sound\n",
    "rho_0 = material_ext.density\n",
    "C_t = material_ext.heat_capacity \n",
    "k_t = material_ext.thermal_conductivity\n",
    "eta = material_ext.attenuation_pow_b \n",
    "alpha_0 = material_ext.attenuation_coeff_a \n",
    "\n",
    "frequency = 500e3\n",
    "\n",
    "Nx = 51\n",
    "Ny = 51\n",
    "Nz = 101\n",
    "\n",
    "xmin, xmax, ymin, ymax, zmin, zmax = [-0.03, 0.03, -0.03, 0.03, 0, 0.12]\n",
    "\n",
    "delta_x = (xmax - xmin) / Nx\n",
    "delta_y = (ymax - ymin) / Ny\n",
    "delta_z = (zmax - zmin) / Nz\n",
    "\n",
    "IPP_abs = IPP_abs_load.reshape(\n",
    "    IPP_abs_load.shape[0], IPP_abs_load.shape[1] // 51, 51) \n",
    "\n",
    "intensity = (IPP_abs)**2 / (2 * c_0 * rho_0)\n",
    "alpha = alpha_0 * frequency / 1000000\n",
    "heat_deposition = intensity.copy()\n",
    "heat_deposition = 2 * alpha * intensity"
   ]
  },
  {
   "cell_type": "code",
   "execution_count": 4,
   "id": "c87ac436",
   "metadata": {},
   "outputs": [],
   "source": [
    "delta_t = 2e-2\n",
    "Nt = int(4e4)\n",
    "T_0 = np.zeros_like(heat_deposition) + 37\n",
    "\n",
    "max_temp = []\n",
    "\n",
    "prev_temp = T_0\n",
    "\n",
    "time_domain = np.array(range(Nt)) * delta_t\n",
    "\n",
    "Nt_heat = int(Nt / 2)\n",
    "Nt_cold = int(Nt / 2)"
   ]
  },
  {
   "cell_type": "code",
   "execution_count": 5,
   "id": "6e08e0aa",
   "metadata": {},
   "outputs": [
    {
     "name": "stdout",
     "output_type": "stream",
     "text": [
      "CPU times: user 12min 9s, sys: 0 ns, total: 12min 9s\n",
      "Wall time: 12min 9s\n"
     ]
    }
   ],
   "source": [
    "%%time\n",
    "for i in range(Nt_heat):\n",
    "    max_temp.append(np.max(prev_temp))\n",
    "    \n",
    "    prev_temp = finite_difference(temp_grid=prev_temp, \n",
    "                                  heat_deposition=heat_deposition, \n",
    "                                  pulse_amplitude=1,\n",
    "                                  delta_x=delta_x,\n",
    "                                  delta_y=delta_y,\n",
    "                                  delta_z=delta_z,\n",
    "                                  delta_t=delta_t,\n",
    "                                  initial_temp = 37,\n",
    "                                  k_t = k_t,\n",
    "                                  rho_0 = rho_0,\n",
    "                                  C_t = C_t)\n",
    "    \n",
    "for i in range(Nt_cold):\n",
    "    max_temp.append(np.max(prev_temp))\n",
    "    \n",
    "    prev_temp = finite_difference(temp_grid=prev_temp, \n",
    "                                  heat_deposition=heat_deposition, \n",
    "                                  pulse_amplitude=0,\n",
    "                                  delta_x=delta_x,\n",
    "                                  delta_y=delta_y,\n",
    "                                  delta_z=delta_z,\n",
    "                                  delta_t=delta_t,\n",
    "                                  initial_temp = 37,\n",
    "                                  k_t = k_t,\n",
    "                                  rho_0 = rho_0,\n",
    "                                  C_t = C_t)"
   ]
  },
  {
   "cell_type": "code",
   "execution_count": 6,
   "id": "e338428b",
   "metadata": {},
   "outputs": [
    {
     "data": {
      "image/png": "[encoded data removed]",
      "text/plain": [
       "<Figure size 1008x504 with 1 Axes>"
      ]
     },
     "metadata": {
      "needs_background": "light"
     },
     "output_type": "display_data"
    }
   ],
   "source": [
    "fig = plt.figure(figsize = (14,7))\n",
    "\n",
    "plt.plot(time_domain, max_temp, c='black', label = 'continuous')\n",
    "\n",
    "plt.legend(loc = 'upper left')\n",
    "plt.xlabel('Time [s]')\n",
    "plt.ylabel('Temperature [$^\\circ$C]')\n",
    "plt.show()"
   ]
  },
  {
   "cell_type": "markdown",
   "id": "c4df24f3",
   "metadata": {},
   "source": [
    "## Comentarios\n",
    "\n",
    "Se puede ver que tanto el crecimiento como el decaimiento de la simulación de la temperatura siguen las curvas esperadas, con la temperatura convergiendo lentamente alrededor de los 39 grados si se deja correr más tiempo la simulación."
   ]
  },
  {
   "cell_type": "code",
   "execution_count": null,
   "id": "98d06063",
   "metadata": {},
   "outputs": [],
   "source": []
  }
 ],
 "metadata": {
  "kernelspec": {
   "display_name": "Python 3",
   "language": "python",
   "name": "python3"
  },
  "language_info": {
   "codemirror_mode": {
    "name": "ipython",
    "version": 3
   },
   "file_extension": ".py",
   "mimetype": "text/x-python",
   "name": "python",
   "nbconvert_exporter": "python",
   "pygments_lexer": "ipython3",
   "version": "3.5.2"
  }
 },
 "nbformat": 4,
 "nbformat_minor": 5
}

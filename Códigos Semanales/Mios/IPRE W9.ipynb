{
 "cells": [
  {
   "cell_type": "code",
   "execution_count": 2,
   "id": "1ed6a660",
   "metadata": {},
   "outputs": [],
   "source": [
    "import sys\n",
    "sys.path.append('..')\n",
    "\n",
    "import optimus\n",
    "import matplotlib.pyplot as plt\n",
    "from mpl_toolkits.mplot3d import proj3d\n",
    "import numpy as np\n",
    "from optimus.source.transducers import transducer_field\n",
    "from optimus.postprocess.plot import surface_plot"
   ]
  },
  {
   "cell_type": "code",
   "execution_count": 3,
   "id": "434843e2",
   "metadata": {},
   "outputs": [],
   "source": [
    "loaded_arr = np.loadtxt(\"MUSCLE_IPP_abs.txt\")\n",
    "\n",
    "IPP_abs = loaded_arr.reshape(\n",
    "    loaded_arr.shape[0], loaded_arr.shape[1] // 201, 201)\n",
    "\n",
    "frequency = 500e3 # 1MHz\n",
    "a = 0.003 #3cm\n",
    "D = 0.18 #18 cm\n",
    "centroid_file='Data/default_random_array_centroid_locations.dat'\n",
    "source = optimus.source.create_array(frequency, element_radius=a, centroid_locations_filename=centroid_file,\n",
    "                                     location=[-D, 0, 0], number_of_point_sources_per_wavelength=2, velocity=0.4)\n",
    "\n",
    "sphere_radius = 7.5e-3\n",
    "geometry = optimus.geometry.shapes.Sphere(radius=7.5e-3, element_size=0.75e-3)\n",
    "material_ext = optimus.material.load_material('muscle') #CAMBIE A MUSCULO POR ALPLA MUY BAJO EN WATER\n",
    "material_int = optimus.material.load_material('bone (cortical)')\n",
    "\n",
    "x = source.centroid_locations[0, :]\n",
    "y = source.centroid_locations[1, :]\n",
    "z = source.centroid_locations[2, :]\n",
    "\n",
    "Nx = 201\n",
    "Ny = 101\n",
    "Nz = 101\n",
    "\n",
    "xmin, xmax, ymin, ymax, zmin, zmax = [-D, D, -0.05, 0.05, -0.05, 0.05]"
   ]
  },
  {
   "cell_type": "code",
   "execution_count": 4,
   "id": "02926683",
   "metadata": {},
   "outputs": [],
   "source": [
    "c_0 = material_ext.speed_of_sound #bien\n",
    "rho_0 = material_ext.density #bien\n",
    "C_t = material_ext.heat_capacity \n",
    "k_t = material_ext.thermal_conductivity\n",
    "eta = material_ext.attenuation_pow_b \n",
    "alpha_0 = material_ext.attenuation_coeff_a # Np/m\n",
    "#alpha_0 = material_ext.attenuation_coeff_a * 8.69 # dB/m\n",
    "\n",
    "I = (IPP_abs)**2 / (c_0 * rho_0)\n",
    "alpha = alpha_0 * frequency / 1000000\n",
    "Q = I.copy()\n",
    "Q = 2 * alpha * I\n",
    "\n",
    "delta_x = (xmax - xmin) / Nx\n",
    "delta_y = (ymax - ymin) / Ny\n",
    "delta_z = (zmax - zmin) / Nz\n",
    "\n",
    "Q = 2 * alpha * I\n",
    "bordes_x = 50 #queda de 2*bordes_x+1\n",
    "bordes_y = 25\n",
    "Q_copy = Q.copy()\n",
    "\n",
    "Q = [corte[51-bordes_y: 51+bordes_y+1, 101-bordes_x: 101+bordes_x+1] for corte in Q_copy]\n",
    "Q = Q[51-bordes_y: 51+bordes_y+1]\n",
    "Q = np.array(Q)"
   ]
  },
  {
   "cell_type": "code",
   "execution_count": 5,
   "id": "e20b3ac5",
   "metadata": {},
   "outputs": [],
   "source": [
    "def pulso_rect(t, pd = 2e-3, pri = 4e-3):\n",
    "    \n",
    "    t_pulso = np.remainder(t, pri)\n",
    "    indicator = t_pulso < pd\n",
    "    amplitud = np.zeros_like(t)\n",
    "    amplitud[indicator] = 1\n",
    "    \n",
    "    return amplitud\n",
    "\n",
    "def pulso_turk(t, pd = 3.25e-3, pri = 4e-3, rd = 1e-3):\n",
    "    \n",
    "    t_pulso = np.remainder(t, pri)\n",
    "    \n",
    "    indicator_1 = t_pulso < rd\n",
    "    indicator_2 = np.logical_and(t_pulso < pd - rd, t_pulso >= rd)\n",
    "    indicator_3 = np.logical_and(t_pulso >= pd - rd, t_pulso < pd)\n",
    "    \n",
    "    amplitud = np.zeros_like(t)\n",
    "    amplitud[indicator_2] = 1\n",
    "    #amplitud[indicator_1] = np.sin(np.pi * (2 * t_pulso[indicator_1] - rd) / (2 * rd)) / 2 + 0.5\n",
    "    amplitud[indicator_1] = -np.cos(np.pi * (t_pulso[indicator_1] / rd)) / 2 + 0.5\n",
    "    #amplitud[indicator_3] = np.sin(np.pi / 2 + np.pi * (t_pulso[indicator_3] - pd + rd) / rd) / 2 + 0.5\n",
    "    amplitud[indicator_3] = -np.cos(np.pi * ((t_pulso[indicator_3] - pd) / rd)) / 2 + 0.5\n",
    "    \n",
    "    return amplitud"
   ]
  },
  {
   "cell_type": "code",
   "execution_count": 6,
   "id": "44fc4add",
   "metadata": {},
   "outputs": [],
   "source": [
    "Nx = 2 * bordes_x + 1\n",
    "Ny = 2 * bordes_y + 1\n",
    "Nz = Ny\n",
    "\n",
    "t_0 = 37\n",
    "T_0 = np.zeros_like(Q) + t_0\n",
    "\n",
    "def next_it_numpy_am(T, Q, am): #Se agrega amortiguador al cuadrado\n",
    "    \n",
    "    T_ret = np.zeros_like(T) + t_0\n",
    "    A = 1 - 2 * delta_t * k_t / (rho_0 * C_t) * (delta_x ** (-2) + delta_y ** (-2) + delta_z ** (-2))\n",
    "    B = delta_t * k_t / (rho_0 * C_t) * (delta_x ** (-2))\n",
    "    C = delta_t * k_t / (rho_0 * C_t) * (delta_y ** (-2))\n",
    "    D = delta_t * k_t / (rho_0 * C_t) * (delta_z ** (-2))\n",
    "    E = delta_t / (rho_0 * C_t)\n",
    "    T_ret[1:Nz-1, 1:Ny-1, 1:Nx-1] = (Q[1:Nz-1, 1:Ny-1, 1:Nx-1] * E * am * am + \n",
    "                             T[1:Nz-1, 1:Ny-1, 1:Nx-1] * A +\n",
    "                             (T[1:Nz-1, 1:Ny-1, 0:Nx-2] + T[1:Nz-1, 1:Ny-1, 2:Nx]) * B + \n",
    "                             (T[1:Nz-1, 0:Ny-2, 1:Nx-1] + T[1:Nz-1, 2:Ny, 1:Nx-1]) * C +\n",
    "                             (T[0:Nz-2, 1:Ny-1, 1:Nx-1] + T[2:Nz, 1:Ny-1, 1:Nx-1]) * D\n",
    "                        )\n",
    "    return T_ret"
   ]
  },
  {
   "cell_type": "code",
   "execution_count": 7,
   "id": "9102c31f",
   "metadata": {},
   "outputs": [
    {
     "data": {
      "text/plain": [
       "(51, 51, 101)"
      ]
     },
     "execution_count": 7,
     "metadata": {},
     "output_type": "execute_result"
    }
   ],
   "source": [
    "np.shape(Q)"
   ]
  },
  {
   "cell_type": "code",
   "execution_count": 11,
   "id": "a1b90034",
   "metadata": {},
   "outputs": [],
   "source": [
    "x, y ,z = np.shape(Q)"
   ]
  },
  {
   "cell_type": "code",
   "execution_count": 13,
   "id": "7848803d",
   "metadata": {},
   "outputs": [
    {
     "data": {
      "text/plain": [
       "(1588.4305555555557, 1090.4, 3421.2, 0.49496875000000007)"
      ]
     },
     "execution_count": 13,
     "metadata": {},
     "output_type": "execute_result"
    }
   ],
   "source": [
    "c_0, rho_0, C_t, k_t"
   ]
  },
  {
   "cell_type": "markdown",
   "id": "f6fb2d66",
   "metadata": {},
   "source": [
    "# Integrales\n",
    "\n",
    "Área de un pulso turk: $pd-rd$. Área de un pulso turk cuadrado: $pd-\\frac{5}{4}rd$. El valor de la integral coincide en ambos pulsos del paper al tomar el cuadrado.\n",
    "\n",
    "# Cambiar pulsos"
   ]
  },
  {
   "cell_type": "code",
   "execution_count": 14,
   "id": "94b5dd92",
   "metadata": {},
   "outputs": [],
   "source": [
    "delta_t = 2e-5\n",
    "Nt = int(3e4)\n",
    "\n",
    "t_ramp = []\n",
    "t_rect = []\n",
    "t_noam = []\n",
    "\n",
    "T_ramp = T_0\n",
    "T_rect = T_0\n",
    "T_noam = T_0\n",
    "\n",
    "tiempos = np.array(range(Nt)) * delta_t\n",
    "pulsos_rect = pulso_rect(tiempos)\n",
    "pulsos_ramp = pulso_turk(tiempos)"
   ]
  },
  {
   "cell_type": "code",
   "execution_count": 25,
   "id": "cc363c28",
   "metadata": {},
   "outputs": [
    {
     "name": "stdout",
     "output_type": "stream",
     "text": [
      "CPU times: user 13min 42s, sys: 36 ms, total: 13min 42s\n",
      "Wall time: 13min 42s\n"
     ]
    }
   ],
   "source": [
    "%%time\n",
    "for i in range(Nt):\n",
    "    t_ramp.append(np.max(T_ramp))\n",
    "    t_rect.append(np.max(T_rect))\n",
    "    t_noam.append(np.max(T_noam))\n",
    "    \n",
    "    T_ramp = next_it_numpy_am(T_ramp, Q, pulsos_ramp[i])\n",
    "    T_rect = next_it_numpy_am(T_rect, Q, pulsos_rect[i])\n",
    "    T_noam = next_it_numpy_am(T_noam, Q, 1)"
   ]
  },
  {
   "cell_type": "code",
   "execution_count": 58,
   "id": "67be6e9b",
   "metadata": {},
   "outputs": [
    {
     "data": {
      "image/png": "[encoded data removed]",
      "text/plain": [
       "<Figure size 864x576 with 1 Axes>"
      ]
     },
     "metadata": {
      "needs_background": "light"
     },
     "output_type": "display_data"
    }
   ],
   "source": [
    "fig = plt.figure(figsize = (12,8))\n",
    "\n",
    "plt.plot(tiempos, t_ramp, c='red', label = 'Rampa')\n",
    "plt.plot(tiempos, t_rect, c='blue', label = 'Rectangular')\n",
    "plt.plot(tiempos, t_noam, c='black', label = 'Continuo')\n",
    "\n",
    "plt.legend(loc = 'upper left')\n",
    "plt.xlim(0.29, 0.3)\n",
    "plt.ylim(40.6, 40.9)\n",
    "plt.xlabel('Tiempo [s]')\n",
    "plt.ylabel('Temperatura [C]')\n",
    "plt.show()"
   ]
  },
  {
   "cell_type": "code",
   "execution_count": 49,
   "id": "4c9a4b47",
   "metadata": {},
   "outputs": [
    {
     "data": {
      "text/plain": [
       "0.016440222480888167"
      ]
     },
     "execution_count": 49,
     "metadata": {},
     "output_type": "execute_result"
    }
   ],
   "source": [
    "t_ramp[200]-t_ramp[100]"
   ]
  },
  {
   "cell_type": "code",
   "execution_count": 59,
   "id": "6dbeea82",
   "metadata": {},
   "outputs": [
    {
     "data": {
      "text/plain": [
       "40.82759090082562"
      ]
     },
     "execution_count": 59,
     "metadata": {},
     "output_type": "execute_result"
    }
   ],
   "source": [
    "t_ramp[-1]"
   ]
  },
  {
   "cell_type": "code",
   "execution_count": 60,
   "id": "bef53b4c",
   "metadata": {},
   "outputs": [
    {
     "data": {
      "text/plain": [
       "40.82939060297481"
      ]
     },
     "execution_count": 60,
     "metadata": {},
     "output_type": "execute_result"
    }
   ],
   "source": [
    "t_rect[-1]"
   ]
  },
  {
   "cell_type": "code",
   "execution_count": 51,
   "id": "145e44e5",
   "metadata": {},
   "outputs": [
    {
     "data": {
      "text/plain": [
       "0.004"
      ]
     },
     "execution_count": 51,
     "metadata": {},
     "output_type": "execute_result"
    }
   ],
   "source": [
    "tiempos[200]"
   ]
  },
  {
   "cell_type": "code",
   "execution_count": 33,
   "id": "4801fc53",
   "metadata": {},
   "outputs": [],
   "source": [
    "delta_t = 2e-5\n",
    "Nt = int(1.5e4)\n",
    "\n",
    "#tiempos\n",
    "tiempos = np.array(range(Nt)) * delta_t"
   ]
  },
  {
   "cell_type": "markdown",
   "id": "96cdffa3",
   "metadata": {},
   "source": [
    "- Probar sacar temperatura en un solo punto (foco) y en máximo.\n",
    "- Buscar xq se deja pulso descansar.\n",
    "- Limpiar notebook. Hacer uno con tiempos muy largos y converger. Otro con diferencia entre 3 funciones. Ambos notebook llaman a misma función next it. Todo en inglés.\n",
    "- Ir formando notebook final.\n",
    "- Usar numpy doc. Ver librería black."
   ]
  },
  {
   "cell_type": "code",
   "execution_count": null,
   "id": "f7dc19ea",
   "metadata": {},
   "outputs": [],
   "source": []
  }
 ],
 "metadata": {
  "kernelspec": {
   "display_name": "Python 3",
   "language": "python",
   "name": "python3"
  },
  "language_info": {
   "codemirror_mode": {
    "name": "ipython",
    "version": 3
   },
   "file_extension": ".py",
   "mimetype": "text/x-python",
   "name": "python",
   "nbconvert_exporter": "python",
   "pygments_lexer": "ipython3",
   "version": "3.5.2"
  }
 },
 "nbformat": 4,
 "nbformat_minor": 5
}
